{
  "nbformat": 4,
  "nbformat_minor": 0,
  "metadata": {
    "colab": {
      "provenance": [],
      "gpuType": "A100",
      "authorship_tag": "ABX9TyPwBMFUF/6RgoByC7J4Elri",
      "include_colab_link": true
    },
    "kernelspec": {
      "name": "python3",
      "display_name": "Python 3"
    },
    "language_info": {
      "name": "python"
    },
    "accelerator": "GPU"
  },
  "cells": [
    {
      "cell_type": "markdown",
      "metadata": {
        "id": "view-in-github",
        "colab_type": "text"
      },
      "source": [
        "<a href=\"https://colab.research.google.com/github/Reusezer/Neuron-activations/blob/main/deepseek_ai_DeepSeek_R1_Distill_Llama_8B_weight.ipynb\" target=\"_parent\"><img src=\"https://colab.research.google.com/assets/colab-badge.svg\" alt=\"Open In Colab\"/></a>"
      ]
    },
    {
      "source": [
        "# Install required packages\n",
        "!pip install transformers accelerate --quiet\n",
        "\n",
        "import os\n",
        "import torch\n",
        "import pandas as pd\n",
        "from transformers import AutoConfig, AutoModelForCausalLM, AutoTokenizer\n",
        "from accelerate import init_empty_weights, infer_auto_device_map\n",
        "\n",
        "# -----------------------\n",
        "# Step 1: Set model name and prepare environment\n",
        "# -----------------------\n",
        "model_name = \"deepseek-ai/DeepSeek-R1-Distill-Llama-8B\"\n",
        "offload_dir = \"offload\"\n",
        "os.makedirs(offload_dir, exist_ok=True)\n",
        "\n",
        "# -----------------------\n",
        "# Step 2: Load config to inspect structure\n",
        "# -----------------------\n",
        "config = AutoConfig.from_pretrained(model_name, trust_remote_code=True)\n",
        "\n",
        "# -----------------------\n",
        "# Step 3: Infer device map with empty model\n",
        "# -----------------------\n",
        "with init_empty_weights():\n",
        "    dummy_model = AutoModelForCausalLM.from_config(config, trust_remote_code=True)\n",
        "\n",
        "device_map = infer_auto_device_map(\n",
        "    dummy_model,\n",
        "    max_memory={\"cpu\": \"32GiB\"},\n",
        "    no_split_module_classes=[\"LlamaDecoderLayer\"]  # Use class from DeepSeek architecture\n",
        ")\n",
        "del dummy_model\n",
        "\n",
        "# -----------------------\n",
        "# Step 4: Load model with inferred device map\n",
        "# -----------------------\n",
        "model = AutoModelForCausalLM.from_pretrained(\n",
        "    model_name,\n",
        "    config=config,\n",
        "    device_map=device_map,\n",
        "    offload_folder=offload_dir,\n",
        "    torch_dtype=torch.float16,\n",
        "    trust_remote_code=True\n",
        ")\n",
        "\n",
        "# -----------------------\n",
        "# Step 5: Load tokenizer\n",
        "# -----------------------\n",
        "tokenizer = AutoTokenizer.from_pretrained(model_name, trust_remote_code=True)\n",
        "\n",
        "# -----------------------\n",
        "# Step 6: Load CSV file\n",
        "# -----------------------\n",
        "df = pd.read_csv(\"/content/deepseek-ai:DeepSeek-R1-Distill-Llama-8B.csv\")\n",
        "\n",
        "weight_vectors = []\n",
        "\n",
        "for idx, row in df.iterrows():\n",
        "    layer = int(row['layer'])\n",
        "    neuron_idx = int(row['neuron_index'])\n",
        "\n",
        "    try:\n",
        "        # Access and retrieve neuron weight vector\n",
        "        weight_vec = model.model.layers[layer].mlp.down_proj.weight[:, neuron_idx].detach().cpu().tolist()\n",
        "        weight_vectors.append(weight_vec)\n",
        "    except Exception as e:\n",
        "        print(f\"❗ Error at row {idx} (layer {layer}, neuron {neuron_idx}): {e}\")\n",
        "        weight_vectors.append([None]*model.model.layers[layer].mlp.down_proj.weight.shape[0])  # Placeholder\n",
        "\n",
        "# -----------------------\n",
        "# Step 7: Save results\n",
        "# -----------------------\n",
        "if weight_vectors and weight_vectors[0][0] is not None:\n",
        "    weight_dim = len(weight_vectors[0])\n",
        "    column_labels = [f\"neuron_weight_{i}\" for i in range(weight_dim)]\n",
        "    weight_df = pd.DataFrame(weight_vectors, columns=column_labels)\n",
        "    df_combined = pd.concat([df, weight_df], axis=1)\n",
        "    df_combined.to_csv(\"deepseek-ai-DeepSeek-R1-Distill-Llama-8B-with-weights.csv\", index=False)\n",
        "    print(\"✅ Saved: deepseek-ai-DeepSeek-R1-Distill-Llama-8B-with-weights.csv\")\n",
        "else:\n",
        "    print(\"⚠️ No valid weight vectors were extracted.\")\n"
      ],
      "cell_type": "code",
      "metadata": {
        "id": "YDxS7E_Q_2Yr"
      },
      "execution_count": null,
      "outputs": []
    }
  ]
}