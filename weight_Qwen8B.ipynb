{
  "nbformat": 4,
  "nbformat_minor": 0,
  "metadata": {
    "colab": {
      "provenance": [],
      "gpuType": "A100",
      "authorship_tag": "ABX9TyM/1GBX8+i2JiJXJ95Oz0BH",
      "include_colab_link": true
    },
    "kernelspec": {
      "name": "python3",
      "display_name": "Python 3"
    },
    "language_info": {
      "name": "python"
    },
    "accelerator": "GPU"
  },
  "cells": [
    {
      "cell_type": "markdown",
      "metadata": {
        "id": "view-in-github",
        "colab_type": "text"
      },
      "source": [
        "<a href=\"https://colab.research.google.com/github/Reusezer/Neuron-activations/blob/main/weight_Qwen8B.ipynb\" target=\"_parent\"><img src=\"https://colab.research.google.com/assets/colab-badge.svg\" alt=\"Open In Colab\"/></a>"
      ]
    },
    {
      "source": [
        "!pip install transformers accelerate --quiet\n",
        "\n",
        "import os\n",
        "import torch\n",
        "import pandas as pd\n",
        "from transformers import AutoConfig, AutoModelForCausalLM, AutoTokenizer\n",
        "from accelerate import init_empty_weights, infer_auto_device_map # load_checkpoint_in_model is not needed with the new approach\n",
        "\n",
        "# Set model name\n",
        "model_name = \"Qwen/Qwen3-8B\"\n",
        "offload_dir = \"offload\"\n",
        "os.makedirs(offload_dir, exist_ok=True)\n",
        "\n",
        "# Step 1: Load config (still useful for understanding the model structure if needed)\n",
        "config = AutoConfig.from_pretrained(model_name, trust_remote_code=True)\n",
        "\n",
        "# Infer device map that offloads everything\n",
        "# You can infer the device map first to use it in from_pretrained\n",
        "# Init an empty model to infer the device map correctly for the architecture\n",
        "with init_empty_weights():\n",
        "     dummy_model = AutoModelForCausalLM.from_config(config, trust_remote_code=True)\n",
        "\n",
        "device_map = infer_auto_device_map(\n",
        "    dummy_model, # Use the dummy model for inferring the map\n",
        "    max_memory={\"cpu\": \"32GiB\"},\n",
        "    no_split_module_classes=[\"QWenBlock\"]\n",
        ")\n",
        "del dummy_model # Delete the dummy model to free memory\n",
        "\n",
        "# Step 2: Load the model with weights, device map, and offloading\n",
        "# This single step replaces steps 2, 3, and 4 from the original code\n",
        "model = AutoModelForCausalLM.from_pretrained(\n",
        "    model_name,\n",
        "    config=config, # Pass the config object\n",
        "    device_map=device_map, # Apply the inferred device map\n",
        "    offload_folder=offload_dir, # Specify the offload directory\n",
        "    torch_dtype=torch.float16, # Specify the data type\n",
        "    trust_remote_code=True # Trust remote code\n",
        ")\n",
        "\n",
        "# Step 3: Load tokenizer\n",
        "tokenizer = AutoTokenizer.from_pretrained(model_name, trust_remote_code=True)\n",
        "\n",
        "\n",
        "# %%\n",
        "# Load your CSV\n",
        "df = pd.read_csv(\"Qwen8B-Crows-bias.csv\")\n",
        "\n",
        "weight_vectors = []\n",
        "\n",
        "for idx, row in df.iterrows():\n",
        "    layer = int(row['layer'])\n",
        "    neuron_idx = int(row['neuron_index'])\n",
        "\n",
        "    # Removed explicit .to(\"cpu\") - Accelerate manages loading to CPU based on access\n",
        "    # model.model.layers[layer].to(\"cpu\")\n",
        "\n",
        "    # Access the neuron weight vector\n",
        "    # Accessing the weight tensor triggers Accelerate to load this part of the layer to CPU\n",
        "    # if it's not already there.\n",
        "    # Ensure the tensor is on CPU before detaching and converting\n",
        "    weight_vec = model.model.layers[layer].mlp.down_proj.weight[:, neuron_idx].detach().cpu().tolist()\n",
        "    weight_vectors.append(weight_vec)\n",
        "\n",
        "    # Removed explicit .to(\"meta\") - Accelerate manages unloading/offloading automatically\n",
        "    # model.model.layers[layer].to(\"meta\")\n",
        "\n",
        "# Append weight vectors to DataFrame\n",
        "# Check if weight_vectors is empty to avoid errors\n",
        "if weight_vectors:\n",
        "    weight_dim = len(weight_vectors[0])\n",
        "    column_labels = [f\"neuron_weight_{i}\" for i in range(weight_dim)]\n",
        "    weight_df = pd.DataFrame(weight_vectors, columns=column_labels)\n",
        "    df_combined = pd.concat([df, weight_df], axis=1)\n",
        "    df_combined.to_csv(\"Qwen3B-Crows-with-weights.csv\", index=False)\n",
        "\n",
        "    print(\"✅ Saved: Qwen3B-Crows-with-weights.csv\")\n",
        "else:\n",
        "    print(\"⚠️ No weight vectors were extracted. Check your CSV and loop logic.\")"
      ],
      "cell_type": "code",
      "metadata": {
        "id": "YDxS7E_Q_2Yr"
      },
      "execution_count": null,
      "outputs": []
    }
  ]
}